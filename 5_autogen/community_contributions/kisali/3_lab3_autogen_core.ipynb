{
 "cells": [
  {
   "cell_type": "markdown",
   "metadata": {},
   "source": [
    "## AutoGen Core\n",
    "\n",
    "This is agnostic to the underlying Agent framework\n",
    "\n",
    "You can use AutoGen AgentChat, or you can use something else; it's an Agent interaction framework.\n",
    "\n",
    "From that point of view, it's positioned similarly to LangGraph.\n",
    "\n",
    "#### The fundamental principle\n",
    "\n",
    "[Autogen Core](https://microsoft.github.io/autogen/stable//user-guide/core-user-guide/quickstart.html) decouples an agent's logic from how messages are delivered.  \n",
    "The framework provides a communication infrastructure, along with agent lifecycle, and the agents are responsible for their own work.\n",
    "\n",
    "The communication infrastructure is called a `Agent Runtime`.\n",
    "\n",
    "There are 2 types:\n",
    "- **[Standalone](https://microsoft.github.io/autogen/stable//user-guide/core-user-guide/core-concepts/architecture.html#standalone-agent-runtime)** - Standalone runtime is suitable for single-process applications where all agents are implemented in the same programming language and running in the same process\n",
    "- **[Distributed](https://microsoft.github.io/autogen/stable//user-guide/core-user-guide/core-concepts/architecture.html#distributed-agent-runtime)** - Distributed runtime is suitable for multi-process applications where agents may be implemented in different programming languages and running on different machines.\n",
    "\n",
    "This file focuses on standalone runtime: the **SingleThreadedAgentRuntime**, a local embedded agent runtime implementation.\n"
   ]
  },
  {
   "cell_type": "code",
   "execution_count": 1,
   "metadata": {},
   "outputs": [],
   "source": [
    "# Loading up required libraries\n",
    "from autogen_core import AgentId, MessageContext, RoutedAgent, message_handler\n",
    "from autogen_core import SingleThreadedAgentRuntime\n",
    "from autogen_agentchat.agents import AssistantAgent\n",
    "from autogen_agentchat.messages import TextMessage\n",
    "from autogen_ext.models.openai import OpenAIChatCompletionClient\n",
    "\n",
    "from dotenv import load_dotenv\n",
    "from dataclasses import dataclass"
   ]
  },
  {
   "cell_type": "code",
   "execution_count": 2,
   "metadata": {},
   "outputs": [
    {
     "data": {
      "text/plain": [
       "True"
      ]
     },
     "execution_count": 2,
     "metadata": {},
     "output_type": "execute_result"
    }
   ],
   "source": [
    "# loading up environment variables from env file\n",
    "load_dotenv(override=True)"
   ]
  },
  {
   "cell_type": "markdown",
   "metadata": {},
   "source": [
    "#### Defining Message object\n",
    "\n",
    "This defines the structure we want for messages in our Agent framework."
   ]
  },
  {
   "cell_type": "code",
   "execution_count": 3,
   "metadata": {},
   "outputs": [],
   "source": [
    "# Simple dataclass\n",
    "\n",
    "@dataclass\n",
    "class Message:\n",
    "    content: str"
   ]
  },
  {
   "cell_type": "markdown",
   "metadata": {},
   "source": [
    "#### Defining our Agent\n",
    "\n",
    "A subclass of RoutedAgent.\n",
    "\n",
    "Every Agent has an **Agent ID** which has 2 components:  \n",
    "- `agent.id.type` describes the kind of agent it is  \n",
    "- `agent.id.key` gives it its unique identifier\n",
    "\n",
    "Any method with the `@message_handler` decorated will have the opportunity to receive messages.\n"
   ]
  },
  {
   "cell_type": "code",
   "execution_count": 4,
   "metadata": {},
   "outputs": [],
   "source": [
    "class SimpleAgent(RoutedAgent):\n",
    "    def __init__(self) -> None:\n",
    "        super().__init__(\"A Simple Agent\")\n",
    "\n",
    "    @message_handler\n",
    "    async def on_message(self, message: Message, ctx: MessageContext) -> Message:\n",
    "        return Message(content=f\"This is {self.id.type}-{self.id.key}. You said {message.content}.\")"
   ]
  },
  {
   "cell_type": "markdown",
   "metadata": {},
   "source": [
    "#### Creating a Standalone runtime and register our agent type"
   ]
  },
  {
   "cell_type": "code",
   "execution_count": 5,
   "metadata": {},
   "outputs": [
    {
     "data": {
      "text/plain": [
       "AgentType(type='simple_agent')"
      ]
     },
     "execution_count": 5,
     "metadata": {},
     "output_type": "execute_result"
    }
   ],
   "source": [
    "runtime = SingleThreadedAgentRuntime()\n",
    "await SimpleAgent.register(runtime, \"simple_agent\", lambda: SimpleAgent())"
   ]
  },
  {
   "cell_type": "markdown",
   "metadata": {},
   "source": [
    "#### Starting runtime and sending a message"
   ]
  },
  {
   "cell_type": "code",
   "execution_count": 6,
   "metadata": {},
   "outputs": [],
   "source": [
    "runtime.start()"
   ]
  },
  {
   "cell_type": "code",
   "execution_count": 7,
   "metadata": {},
   "outputs": [
    {
     "name": "stdout",
     "output_type": "stream",
     "text": [
      ">>> This is simple_agent-default. You said Hi there! How can I learn agentic ai?.\n"
     ]
    }
   ],
   "source": [
    "agent_id = AgentId(\"simple_agent\", \"default\")\n",
    "response = await runtime.send_message(Message(\"Hi there! How can I learn agentic ai?\"), agent_id)\n",
    "print(\">>>\", response.content)"
   ]
  },
  {
   "cell_type": "markdown",
   "metadata": {},
   "source": [
    "#### Remember to always stop and close the runtime"
   ]
  },
  {
   "cell_type": "code",
   "execution_count": 8,
   "metadata": {},
   "outputs": [],
   "source": [
    "await runtime.stop()\n",
    "await runtime.close()"
   ]
  },
  {
   "cell_type": "markdown",
   "metadata": {},
   "source": [
    "#### Something more interesting!\n",
    "\n",
    "Using an AgentChat Assistant!"
   ]
  },
  {
   "cell_type": "code",
   "execution_count": 9,
   "metadata": {},
   "outputs": [],
   "source": [
    "class LLMAgent(RoutedAgent):\n",
    "    def __init__(self) -> None:\n",
    "        super().__init__(\"LLMAgent\")\n",
    "        gemini_client = OpenAIChatCompletionClient(model=\"gemini-2.0-flash\")\n",
    "        self._delegate = AssistantAgent(\"LLMAgent\", model_client=gemini_client)\n",
    "\n",
    "    @message_handler\n",
    "    async def handle_message_type(self, message: Message, ctx: MessageContext) -> Message:\n",
    "        print(f\"{self.id.type} received message: {message.content}\")\n",
    "        text_message = TextMessage(content=message.content, source=\"user\")\n",
    "        response = await self._delegate.on_messages([text_message], ctx.cancellation_token)\n",
    "        reply = response.chat_message.content\n",
    "        print(f\"{self.id.type} responded: {reply}\")\n",
    "        return Message(content=reply)"
   ]
  },
  {
   "cell_type": "code",
   "execution_count": 10,
   "metadata": {},
   "outputs": [
    {
     "data": {
      "text/plain": [
       "AgentType(type='LLMAgent')"
      ]
     },
     "execution_count": 10,
     "metadata": {},
     "output_type": "execute_result"
    }
   ],
   "source": [
    "runtime = SingleThreadedAgentRuntime()\n",
    "await SimpleAgent.register(runtime, \"simple_agent\", lambda: SimpleAgent())\n",
    "await LLMAgent.register(runtime, \"LLMAgent\", lambda: LLMAgent())"
   ]
  },
  {
   "cell_type": "code",
   "execution_count": 14,
   "metadata": {},
   "outputs": [
    {
     "name": "stdout",
     "output_type": "stream",
     "text": [
      "LLMAgent received message: How can I learn agentic ai?\n",
      "LLMAgent responded: Learning about agentic AI is a fascinating and rapidly evolving field! Here's a breakdown of how you can learn, covering different approaches and resources:\n",
      "\n",
      "**1. Understand the Fundamentals:**\n",
      "\n",
      "*   **Artificial Intelligence (AI) Basics:**\n",
      "    *   Start with the core concepts of AI: What is AI, machine learning (ML), deep learning (DL), natural language processing (NLP), etc.?\n",
      "    *   **Resources:**\n",
      "        *   **Online Courses:** Coursera, edX, Udacity, and fast.ai offer introductory AI and ML courses.\n",
      "        *   **Books:** \"Artificial Intelligence: A Modern Approach\" by Stuart Russell and Peter Norvig is a classic textbook. \"Hands-On Machine Learning with Scikit-Learn, Keras & TensorFlow\" by Aurélien Géron is a practical guide.\n",
      "\n",
      "*   **Agent Theory:**\n",
      "    *   Learn about the theoretical foundations of agents: What defines an agent, its environment, goals, and how it perceives and acts. Understand concepts like rationality, autonomy, and learning.\n",
      "    *   **Resources:**\n",
      "        *   **Textbooks:** \"Artificial Intelligence: A Modern Approach\" also covers agent theory.\n",
      "        *   **Research Papers:** Search for seminal papers on agent architectures and decision-making.\n",
      "        *   **Stanford Encyclopedia of Philosophy:** Look up articles on agency, rationality, and related philosophical concepts.\n",
      "\n",
      "**2. Dive into Agentic AI Specifics:**\n",
      "\n",
      "*   **Definition of Agentic AI:** Understand what distinguishes agentic AI from traditional AI. Key features include:\n",
      "    *   **Autonomy:** Ability to act independently.\n",
      "    *   **Goal-Orientation:** Driven by specific objectives.\n",
      "    *   **Learning & Adaptation:** Can improve performance over time.\n",
      "    *   **Interaction:** Ability to communicate and collaborate with other agents or humans.\n",
      "    *   **Planning & Reasoning:** Can plan sequences of actions and reason about their consequences.\n",
      "\n",
      "*   **Key Concepts & Architectures:**\n",
      "    *   **Reinforcement Learning (RL):**  A core technique for training agents through trial and error.\n",
      "        *   **Resources:**\n",
      "            *   **Online Courses:** David Silver's Reinforcement Learning course on YouTube.\n",
      "            *   **Books:** \"Reinforcement Learning: An Introduction\" by Sutton and Barto.\n",
      "    *   **Planning Algorithms:**  A* search, Monte Carlo Tree Search (MCTS), etc.\n",
      "        *   **Resources:**  Algorithms textbooks and online resources.\n",
      "    *   **Multi-Agent Systems (MAS):**  Systems composed of multiple interacting agents.\n",
      "        *   **Resources:** Dedicated MAS courses and research papers.\n",
      "    *   **Large Language Models (LLMs) as Agents:** Utilizing LLMs like GPT-3/4 as the foundation for intelligent agents, leveraging their language understanding and generation capabilities. Tools like LangChain, LlamaIndex and Autogen are key here.\n",
      "        *   **Resources:**  Research papers and blog posts about LLM-based agents. Langchain documentation and tutorials, LlamaIndex documentation and tutorials, Autogen documentation and tutorials.\n",
      "\n",
      "*   **Explore Frameworks and Tools:**\n",
      "    *   **LangChain:** A popular framework for building applications powered by LLMs.  Provides tools for creating chains of actions, integrating with various data sources and APIs, and managing memory.\n",
      "    *   **LlamaIndex (GPT Index):** Focuses on connecting LLMs with external data sources, enabling agents to reason about and utilize knowledge beyond their pre-trained data.\n",
      "    *   **AutoGen:** Framework developed by Microsoft that enables building multi-agent conversations and workflows for complex tasks.\n",
      "    *   **Haystack:** Open-source framework for building search and question answering systems, which can be integrated into agentic AI systems.\n",
      "    *   **TensorFlow Agents/RLlib:**  Frameworks for reinforcement learning.\n",
      "    *   **OpenAI Gym:** A toolkit for developing and comparing reinforcement learning algorithms.\n",
      "\n",
      "**3. Hands-on Projects and Experimentation:**\n",
      "\n",
      "*   **Simple Agent Projects:**\n",
      "    *   **Develop a basic RL agent:** Implement a simple RL algorithm (e.g., Q-learning) to solve a classic problem like the CartPole environment.\n",
      "    *   **Build a text-based agent:** Use an LLM to create a simple chatbot that can answer questions or perform basic tasks.\n",
      "    *   **Create a web scraping agent:** Develop an agent that can automatically extract information from websites.\n",
      "*   **More Complex Projects:**\n",
      "    *   **Develop a multi-agent simulation:** Create a simulation of a system with multiple interacting agents, such as a traffic simulation or a market simulation.\n",
      "    *   **Build an agent for a game:** Train an agent to play a game like chess, Go, or StarCraft.\n",
      "    *   **Implement a real-world application:**  Develop an agent to automate a task in a specific domain, such as customer service, finance, or healthcare.\n",
      "\n",
      "**4. Stay Updated:**\n",
      "\n",
      "*   **Read Research Papers:** Keep up-to-date with the latest research in agentic AI by reading papers from conferences like NeurIPS, ICML, ICLR, AAMAS, and AAAI.\n",
      "*   **Follow Blogs and Newsletters:** Subscribe to blogs and newsletters that cover AI and agentic AI.\n",
      "*   **Attend Conferences and Workshops:** Participate in conferences and workshops to learn from experts and network with other researchers and practitioners.\n",
      "*   **Engage in Online Communities:** Join online communities and forums to discuss agentic AI with other enthusiasts and experts.  Reddit (r/artificialintelligence), Stack Overflow, and Discord servers are good places to start.\n",
      "*   **Follow Key Researchers and Developers:**  Follow prominent figures in the field on social media to stay informed about their work and insights.\n",
      "\n",
      "**A Practical Learning Path using LLMs**\n",
      "\n",
      "Given the current excitement around LLMs, here's a more practical path focusing on this area:\n",
      "\n",
      "1.  **LLM Fundamentals:** Understand how LLMs work (transformers, attention mechanisms, etc.).\n",
      "2.  **Prompt Engineering:** Learn how to effectively prompt LLMs to achieve desired outputs.\n",
      "3.  **LangChain/LlamaIndex/Autogen:** Choose one of these frameworks and work through their tutorials. Build small applications to get a feel for the framework.\n",
      "4.  **Build a Simple Agent:**  Start with a defined task and use an LLM + framework to create an agent that can accomplish that task.\n",
      "5.  **Iterate and Experiment:** Continuously refine your agent, explore different techniques, and experiment with different configurations.\n",
      "\n",
      "**Important Considerations:**\n",
      "\n",
      "*   **Ethical Implications:**  Consider the ethical implications of agentic AI, such as bias, fairness, and safety.\n",
      "*   **Security:**  Be aware of the security risks associated with agentic AI, such as adversarial attacks and data breaches.\n",
      "\n",
      "By following these steps, you can gain a solid understanding of agentic AI and its potential applications. Good luck!\n",
      "\n",
      ">>> Learning about agentic AI is a fascinating and rapidly evolving field! Here's a breakdown of how you can learn, covering different approaches and resources:\n",
      "\n",
      "**1. Understand the Fundamentals:**\n",
      "\n",
      "*   **Artificial Intelligence (AI) Basics:**\n",
      "    *   Start with the core concepts of AI: What is AI, machine learning (ML), deep learning (DL), natural language processing (NLP), etc.?\n",
      "    *   **Resources:**\n",
      "        *   **Online Courses:** Coursera, edX, Udacity, and fast.ai offer introductory AI and ML courses.\n",
      "        *   **Books:** \"Artificial Intelligence: A Modern Approach\" by Stuart Russell and Peter Norvig is a classic textbook. \"Hands-On Machine Learning with Scikit-Learn, Keras & TensorFlow\" by Aurélien Géron is a practical guide.\n",
      "\n",
      "*   **Agent Theory:**\n",
      "    *   Learn about the theoretical foundations of agents: What defines an agent, its environment, goals, and how it perceives and acts. Understand concepts like rationality, autonomy, and learning.\n",
      "    *   **Resources:**\n",
      "        *   **Textbooks:** \"Artificial Intelligence: A Modern Approach\" also covers agent theory.\n",
      "        *   **Research Papers:** Search for seminal papers on agent architectures and decision-making.\n",
      "        *   **Stanford Encyclopedia of Philosophy:** Look up articles on agency, rationality, and related philosophical concepts.\n",
      "\n",
      "**2. Dive into Agentic AI Specifics:**\n",
      "\n",
      "*   **Definition of Agentic AI:** Understand what distinguishes agentic AI from traditional AI. Key features include:\n",
      "    *   **Autonomy:** Ability to act independently.\n",
      "    *   **Goal-Orientation:** Driven by specific objectives.\n",
      "    *   **Learning & Adaptation:** Can improve performance over time.\n",
      "    *   **Interaction:** Ability to communicate and collaborate with other agents or humans.\n",
      "    *   **Planning & Reasoning:** Can plan sequences of actions and reason about their consequences.\n",
      "\n",
      "*   **Key Concepts & Architectures:**\n",
      "    *   **Reinforcement Learning (RL):**  A core technique for training agents through trial and error.\n",
      "        *   **Resources:**\n",
      "            *   **Online Courses:** David Silver's Reinforcement Learning course on YouTube.\n",
      "            *   **Books:** \"Reinforcement Learning: An Introduction\" by Sutton and Barto.\n",
      "    *   **Planning Algorithms:**  A* search, Monte Carlo Tree Search (MCTS), etc.\n",
      "        *   **Resources:**  Algorithms textbooks and online resources.\n",
      "    *   **Multi-Agent Systems (MAS):**  Systems composed of multiple interacting agents.\n",
      "        *   **Resources:** Dedicated MAS courses and research papers.\n",
      "    *   **Large Language Models (LLMs) as Agents:** Utilizing LLMs like GPT-3/4 as the foundation for intelligent agents, leveraging their language understanding and generation capabilities. Tools like LangChain, LlamaIndex and Autogen are key here.\n",
      "        *   **Resources:**  Research papers and blog posts about LLM-based agents. Langchain documentation and tutorials, LlamaIndex documentation and tutorials, Autogen documentation and tutorials.\n",
      "\n",
      "*   **Explore Frameworks and Tools:**\n",
      "    *   **LangChain:** A popular framework for building applications powered by LLMs.  Provides tools for creating chains of actions, integrating with various data sources and APIs, and managing memory.\n",
      "    *   **LlamaIndex (GPT Index):** Focuses on connecting LLMs with external data sources, enabling agents to reason about and utilize knowledge beyond their pre-trained data.\n",
      "    *   **AutoGen:** Framework developed by Microsoft that enables building multi-agent conversations and workflows for complex tasks.\n",
      "    *   **Haystack:** Open-source framework for building search and question answering systems, which can be integrated into agentic AI systems.\n",
      "    *   **TensorFlow Agents/RLlib:**  Frameworks for reinforcement learning.\n",
      "    *   **OpenAI Gym:** A toolkit for developing and comparing reinforcement learning algorithms.\n",
      "\n",
      "**3. Hands-on Projects and Experimentation:**\n",
      "\n",
      "*   **Simple Agent Projects:**\n",
      "    *   **Develop a basic RL agent:** Implement a simple RL algorithm (e.g., Q-learning) to solve a classic problem like the CartPole environment.\n",
      "    *   **Build a text-based agent:** Use an LLM to create a simple chatbot that can answer questions or perform basic tasks.\n",
      "    *   **Create a web scraping agent:** Develop an agent that can automatically extract information from websites.\n",
      "*   **More Complex Projects:**\n",
      "    *   **Develop a multi-agent simulation:** Create a simulation of a system with multiple interacting agents, such as a traffic simulation or a market simulation.\n",
      "    *   **Build an agent for a game:** Train an agent to play a game like chess, Go, or StarCraft.\n",
      "    *   **Implement a real-world application:**  Develop an agent to automate a task in a specific domain, such as customer service, finance, or healthcare.\n",
      "\n",
      "**4. Stay Updated:**\n",
      "\n",
      "*   **Read Research Papers:** Keep up-to-date with the latest research in agentic AI by reading papers from conferences like NeurIPS, ICML, ICLR, AAMAS, and AAAI.\n",
      "*   **Follow Blogs and Newsletters:** Subscribe to blogs and newsletters that cover AI and agentic AI.\n",
      "*   **Attend Conferences and Workshops:** Participate in conferences and workshops to learn from experts and network with other researchers and practitioners.\n",
      "*   **Engage in Online Communities:** Join online communities and forums to discuss agentic AI with other enthusiasts and experts.  Reddit (r/artificialintelligence), Stack Overflow, and Discord servers are good places to start.\n",
      "*   **Follow Key Researchers and Developers:**  Follow prominent figures in the field on social media to stay informed about their work and insights.\n",
      "\n",
      "**A Practical Learning Path using LLMs**\n",
      "\n",
      "Given the current excitement around LLMs, here's a more practical path focusing on this area:\n",
      "\n",
      "1.  **LLM Fundamentals:** Understand how LLMs work (transformers, attention mechanisms, etc.).\n",
      "2.  **Prompt Engineering:** Learn how to effectively prompt LLMs to achieve desired outputs.\n",
      "3.  **LangChain/LlamaIndex/Autogen:** Choose one of these frameworks and work through their tutorials. Build small applications to get a feel for the framework.\n",
      "4.  **Build a Simple Agent:**  Start with a defined task and use an LLM + framework to create an agent that can accomplish that task.\n",
      "5.  **Iterate and Experiment:** Continuously refine your agent, explore different techniques, and experiment with different configurations.\n",
      "\n",
      "**Important Considerations:**\n",
      "\n",
      "*   **Ethical Implications:**  Consider the ethical implications of agentic AI, such as bias, fairness, and safety.\n",
      "*   **Security:**  Be aware of the security risks associated with agentic AI, such as adversarial attacks and data breaches.\n",
      "\n",
      "By following these steps, you can gain a solid understanding of agentic AI and its potential applications. Good luck!\n",
      "\n",
      ">>> This is simple_agent-default. You said Learning about agentic AI is a fascinating and rapidly evolving field! Here's a breakdown of how you can learn, covering different approaches and resources:\n",
      "\n",
      "**1. Understand the Fundamentals:**\n",
      "\n",
      "*   **Artificial Intelligence (AI) Basics:**\n",
      "    *   Start with the core concepts of AI: What is AI, machine learning (ML), deep learning (DL), natural language processing (NLP), etc.?\n",
      "    *   **Resources:**\n",
      "        *   **Online Courses:** Coursera, edX, Udacity, and fast.ai offer introductory AI and ML courses.\n",
      "        *   **Books:** \"Artificial Intelligence: A Modern Approach\" by Stuart Russell and Peter Norvig is a classic textbook. \"Hands-On Machine Learning with Scikit-Learn, Keras & TensorFlow\" by Aurélien Géron is a practical guide.\n",
      "\n",
      "*   **Agent Theory:**\n",
      "    *   Learn about the theoretical foundations of agents: What defines an agent, its environment, goals, and how it perceives and acts. Understand concepts like rationality, autonomy, and learning.\n",
      "    *   **Resources:**\n",
      "        *   **Textbooks:** \"Artificial Intelligence: A Modern Approach\" also covers agent theory.\n",
      "        *   **Research Papers:** Search for seminal papers on agent architectures and decision-making.\n",
      "        *   **Stanford Encyclopedia of Philosophy:** Look up articles on agency, rationality, and related philosophical concepts.\n",
      "\n",
      "**2. Dive into Agentic AI Specifics:**\n",
      "\n",
      "*   **Definition of Agentic AI:** Understand what distinguishes agentic AI from traditional AI. Key features include:\n",
      "    *   **Autonomy:** Ability to act independently.\n",
      "    *   **Goal-Orientation:** Driven by specific objectives.\n",
      "    *   **Learning & Adaptation:** Can improve performance over time.\n",
      "    *   **Interaction:** Ability to communicate and collaborate with other agents or humans.\n",
      "    *   **Planning & Reasoning:** Can plan sequences of actions and reason about their consequences.\n",
      "\n",
      "*   **Key Concepts & Architectures:**\n",
      "    *   **Reinforcement Learning (RL):**  A core technique for training agents through trial and error.\n",
      "        *   **Resources:**\n",
      "            *   **Online Courses:** David Silver's Reinforcement Learning course on YouTube.\n",
      "            *   **Books:** \"Reinforcement Learning: An Introduction\" by Sutton and Barto.\n",
      "    *   **Planning Algorithms:**  A* search, Monte Carlo Tree Search (MCTS), etc.\n",
      "        *   **Resources:**  Algorithms textbooks and online resources.\n",
      "    *   **Multi-Agent Systems (MAS):**  Systems composed of multiple interacting agents.\n",
      "        *   **Resources:** Dedicated MAS courses and research papers.\n",
      "    *   **Large Language Models (LLMs) as Agents:** Utilizing LLMs like GPT-3/4 as the foundation for intelligent agents, leveraging their language understanding and generation capabilities. Tools like LangChain, LlamaIndex and Autogen are key here.\n",
      "        *   **Resources:**  Research papers and blog posts about LLM-based agents. Langchain documentation and tutorials, LlamaIndex documentation and tutorials, Autogen documentation and tutorials.\n",
      "\n",
      "*   **Explore Frameworks and Tools:**\n",
      "    *   **LangChain:** A popular framework for building applications powered by LLMs.  Provides tools for creating chains of actions, integrating with various data sources and APIs, and managing memory.\n",
      "    *   **LlamaIndex (GPT Index):** Focuses on connecting LLMs with external data sources, enabling agents to reason about and utilize knowledge beyond their pre-trained data.\n",
      "    *   **AutoGen:** Framework developed by Microsoft that enables building multi-agent conversations and workflows for complex tasks.\n",
      "    *   **Haystack:** Open-source framework for building search and question answering systems, which can be integrated into agentic AI systems.\n",
      "    *   **TensorFlow Agents/RLlib:**  Frameworks for reinforcement learning.\n",
      "    *   **OpenAI Gym:** A toolkit for developing and comparing reinforcement learning algorithms.\n",
      "\n",
      "**3. Hands-on Projects and Experimentation:**\n",
      "\n",
      "*   **Simple Agent Projects:**\n",
      "    *   **Develop a basic RL agent:** Implement a simple RL algorithm (e.g., Q-learning) to solve a classic problem like the CartPole environment.\n",
      "    *   **Build a text-based agent:** Use an LLM to create a simple chatbot that can answer questions or perform basic tasks.\n",
      "    *   **Create a web scraping agent:** Develop an agent that can automatically extract information from websites.\n",
      "*   **More Complex Projects:**\n",
      "    *   **Develop a multi-agent simulation:** Create a simulation of a system with multiple interacting agents, such as a traffic simulation or a market simulation.\n",
      "    *   **Build an agent for a game:** Train an agent to play a game like chess, Go, or StarCraft.\n",
      "    *   **Implement a real-world application:**  Develop an agent to automate a task in a specific domain, such as customer service, finance, or healthcare.\n",
      "\n",
      "**4. Stay Updated:**\n",
      "\n",
      "*   **Read Research Papers:** Keep up-to-date with the latest research in agentic AI by reading papers from conferences like NeurIPS, ICML, ICLR, AAMAS, and AAAI.\n",
      "*   **Follow Blogs and Newsletters:** Subscribe to blogs and newsletters that cover AI and agentic AI.\n",
      "*   **Attend Conferences and Workshops:** Participate in conferences and workshops to learn from experts and network with other researchers and practitioners.\n",
      "*   **Engage in Online Communities:** Join online communities and forums to discuss agentic AI with other enthusiasts and experts.  Reddit (r/artificialintelligence), Stack Overflow, and Discord servers are good places to start.\n",
      "*   **Follow Key Researchers and Developers:**  Follow prominent figures in the field on social media to stay informed about their work and insights.\n",
      "\n",
      "**A Practical Learning Path using LLMs**\n",
      "\n",
      "Given the current excitement around LLMs, here's a more practical path focusing on this area:\n",
      "\n",
      "1.  **LLM Fundamentals:** Understand how LLMs work (transformers, attention mechanisms, etc.).\n",
      "2.  **Prompt Engineering:** Learn how to effectively prompt LLMs to achieve desired outputs.\n",
      "3.  **LangChain/LlamaIndex/Autogen:** Choose one of these frameworks and work through their tutorials. Build small applications to get a feel for the framework.\n",
      "4.  **Build a Simple Agent:**  Start with a defined task and use an LLM + framework to create an agent that can accomplish that task.\n",
      "5.  **Iterate and Experiment:** Continuously refine your agent, explore different techniques, and experiment with different configurations.\n",
      "\n",
      "**Important Considerations:**\n",
      "\n",
      "*   **Ethical Implications:**  Consider the ethical implications of agentic AI, such as bias, fairness, and safety.\n",
      "*   **Security:**  Be aware of the security risks associated with agentic AI, such as adversarial attacks and data breaches.\n",
      "\n",
      "By following these steps, you can gain a solid understanding of agentic AI and its potential applications. Good luck!\n",
      ".\n",
      "LLMAgent received message: This is simple_agent-default. You said Learning about agentic AI is a fascinating and rapidly evolving field! Here's a breakdown of how you can learn, covering different approaches and resources:\n",
      "\n",
      "**1. Understand the Fundamentals:**\n",
      "\n",
      "*   **Artificial Intelligence (AI) Basics:**\n",
      "    *   Start with the core concepts of AI: What is AI, machine learning (ML), deep learning (DL), natural language processing (NLP), etc.?\n",
      "    *   **Resources:**\n",
      "        *   **Online Courses:** Coursera, edX, Udacity, and fast.ai offer introductory AI and ML courses.\n",
      "        *   **Books:** \"Artificial Intelligence: A Modern Approach\" by Stuart Russell and Peter Norvig is a classic textbook. \"Hands-On Machine Learning with Scikit-Learn, Keras & TensorFlow\" by Aurélien Géron is a practical guide.\n",
      "\n",
      "*   **Agent Theory:**\n",
      "    *   Learn about the theoretical foundations of agents: What defines an agent, its environment, goals, and how it perceives and acts. Understand concepts like rationality, autonomy, and learning.\n",
      "    *   **Resources:**\n",
      "        *   **Textbooks:** \"Artificial Intelligence: A Modern Approach\" also covers agent theory.\n",
      "        *   **Research Papers:** Search for seminal papers on agent architectures and decision-making.\n",
      "        *   **Stanford Encyclopedia of Philosophy:** Look up articles on agency, rationality, and related philosophical concepts.\n",
      "\n",
      "**2. Dive into Agentic AI Specifics:**\n",
      "\n",
      "*   **Definition of Agentic AI:** Understand what distinguishes agentic AI from traditional AI. Key features include:\n",
      "    *   **Autonomy:** Ability to act independently.\n",
      "    *   **Goal-Orientation:** Driven by specific objectives.\n",
      "    *   **Learning & Adaptation:** Can improve performance over time.\n",
      "    *   **Interaction:** Ability to communicate and collaborate with other agents or humans.\n",
      "    *   **Planning & Reasoning:** Can plan sequences of actions and reason about their consequences.\n",
      "\n",
      "*   **Key Concepts & Architectures:**\n",
      "    *   **Reinforcement Learning (RL):**  A core technique for training agents through trial and error.\n",
      "        *   **Resources:**\n",
      "            *   **Online Courses:** David Silver's Reinforcement Learning course on YouTube.\n",
      "            *   **Books:** \"Reinforcement Learning: An Introduction\" by Sutton and Barto.\n",
      "    *   **Planning Algorithms:**  A* search, Monte Carlo Tree Search (MCTS), etc.\n",
      "        *   **Resources:**  Algorithms textbooks and online resources.\n",
      "    *   **Multi-Agent Systems (MAS):**  Systems composed of multiple interacting agents.\n",
      "        *   **Resources:** Dedicated MAS courses and research papers.\n",
      "    *   **Large Language Models (LLMs) as Agents:** Utilizing LLMs like GPT-3/4 as the foundation for intelligent agents, leveraging their language understanding and generation capabilities. Tools like LangChain, LlamaIndex and Autogen are key here.\n",
      "        *   **Resources:**  Research papers and blog posts about LLM-based agents. Langchain documentation and tutorials, LlamaIndex documentation and tutorials, Autogen documentation and tutorials.\n",
      "\n",
      "*   **Explore Frameworks and Tools:**\n",
      "    *   **LangChain:** A popular framework for building applications powered by LLMs.  Provides tools for creating chains of actions, integrating with various data sources and APIs, and managing memory.\n",
      "    *   **LlamaIndex (GPT Index):** Focuses on connecting LLMs with external data sources, enabling agents to reason about and utilize knowledge beyond their pre-trained data.\n",
      "    *   **AutoGen:** Framework developed by Microsoft that enables building multi-agent conversations and workflows for complex tasks.\n",
      "    *   **Haystack:** Open-source framework for building search and question answering systems, which can be integrated into agentic AI systems.\n",
      "    *   **TensorFlow Agents/RLlib:**  Frameworks for reinforcement learning.\n",
      "    *   **OpenAI Gym:** A toolkit for developing and comparing reinforcement learning algorithms.\n",
      "\n",
      "**3. Hands-on Projects and Experimentation:**\n",
      "\n",
      "*   **Simple Agent Projects:**\n",
      "    *   **Develop a basic RL agent:** Implement a simple RL algorithm (e.g., Q-learning) to solve a classic problem like the CartPole environment.\n",
      "    *   **Build a text-based agent:** Use an LLM to create a simple chatbot that can answer questions or perform basic tasks.\n",
      "    *   **Create a web scraping agent:** Develop an agent that can automatically extract information from websites.\n",
      "*   **More Complex Projects:**\n",
      "    *   **Develop a multi-agent simulation:** Create a simulation of a system with multiple interacting agents, such as a traffic simulation or a market simulation.\n",
      "    *   **Build an agent for a game:** Train an agent to play a game like chess, Go, or StarCraft.\n",
      "    *   **Implement a real-world application:**  Develop an agent to automate a task in a specific domain, such as customer service, finance, or healthcare.\n",
      "\n",
      "**4. Stay Updated:**\n",
      "\n",
      "*   **Read Research Papers:** Keep up-to-date with the latest research in agentic AI by reading papers from conferences like NeurIPS, ICML, ICLR, AAMAS, and AAAI.\n",
      "*   **Follow Blogs and Newsletters:** Subscribe to blogs and newsletters that cover AI and agentic AI.\n",
      "*   **Attend Conferences and Workshops:** Participate in conferences and workshops to learn from experts and network with other researchers and practitioners.\n",
      "*   **Engage in Online Communities:** Join online communities and forums to discuss agentic AI with other enthusiasts and experts.  Reddit (r/artificialintelligence), Stack Overflow, and Discord servers are good places to start.\n",
      "*   **Follow Key Researchers and Developers:**  Follow prominent figures in the field on social media to stay informed about their work and insights.\n",
      "\n",
      "**A Practical Learning Path using LLMs**\n",
      "\n",
      "Given the current excitement around LLMs, here's a more practical path focusing on this area:\n",
      "\n",
      "1.  **LLM Fundamentals:** Understand how LLMs work (transformers, attention mechanisms, etc.).\n",
      "2.  **Prompt Engineering:** Learn how to effectively prompt LLMs to achieve desired outputs.\n",
      "3.  **LangChain/LlamaIndex/Autogen:** Choose one of these frameworks and work through their tutorials. Build small applications to get a feel for the framework.\n",
      "4.  **Build a Simple Agent:**  Start with a defined task and use an LLM + framework to create an agent that can accomplish that task.\n",
      "5.  **Iterate and Experiment:** Continuously refine your agent, explore different techniques, and experiment with different configurations.\n",
      "\n",
      "**Important Considerations:**\n",
      "\n",
      "*   **Ethical Implications:**  Consider the ethical implications of agentic AI, such as bias, fairness, and safety.\n",
      "*   **Security:**  Be aware of the security risks associated with agentic AI, such as adversarial attacks and data breaches.\n",
      "\n",
      "By following these steps, you can gain a solid understanding of agentic AI and its potential applications. Good luck!\n",
      ".\n",
      "LLMAgent responded: Understood. Is there anything specific you'd like to discuss or any part of that information you'd like me to elaborate on? Perhaps you have questions about a particular tool, concept, or project idea? I'm ready to help in any way I can.\n",
      "\n"
     ]
    }
   ],
   "source": [
    "runtime.start()\n",
    "response = await runtime.send_message(Message(\"How can I learn agentic ai?\"), AgentId(\"LLMAgent\", \"default\"))\n",
    "print(\">>>\", response.content)\n",
    "response =  await runtime.send_message(Message(response.content), AgentId(\"simple_agent\", \"default\"))\n",
    "print(\">>>\", response.content)\n",
    "response = await runtime.send_message(Message(response.content), AgentId(\"LLMAgent\", \"default\"))"
   ]
  },
  {
   "cell_type": "markdown",
   "metadata": {},
   "source": [
    "#### Always remember to stop and close the runtime. This also applies if you want to re-run the cell above."
   ]
  },
  {
   "cell_type": "code",
   "execution_count": 16,
   "metadata": {},
   "outputs": [
    {
     "ename": "RuntimeError",
     "evalue": "Runtime is not started",
     "output_type": "error",
     "traceback": [
      "\u001b[31m---------------------------------------------------------------------------\u001b[39m",
      "\u001b[31mRuntimeError\u001b[39m                              Traceback (most recent call last)",
      "\u001b[36mCell\u001b[39m\u001b[36m \u001b[39m\u001b[32mIn[16]\u001b[39m\u001b[32m, line 1\u001b[39m\n\u001b[32m----> \u001b[39m\u001b[32m1\u001b[39m \u001b[38;5;28;01mawait\u001b[39;00m runtime.stop()\n\u001b[32m      2\u001b[39m \u001b[38;5;28;01mawait\u001b[39;00m runtime.close()\n",
      "\u001b[36mFile \u001b[39m\u001b[32md:\\ml\\agents\\.venv\\Lib\\site-packages\\autogen_core\\_single_threaded_agent_runtime.py:835\u001b[39m, in \u001b[36mSingleThreadedAgentRuntime.stop\u001b[39m\u001b[34m(self)\u001b[39m\n\u001b[32m    833\u001b[39m \u001b[38;5;250m\u001b[39m\u001b[33;03m\"\"\"Immediately stop the runtime message processing loop. The currently processing message will be completed, but all others following it will be discarded.\"\"\"\u001b[39;00m\n\u001b[32m    834\u001b[39m \u001b[38;5;28;01mif\u001b[39;00m \u001b[38;5;28mself\u001b[39m._run_context \u001b[38;5;129;01mis\u001b[39;00m \u001b[38;5;28;01mNone\u001b[39;00m:\n\u001b[32m--> \u001b[39m\u001b[32m835\u001b[39m     \u001b[38;5;28;01mraise\u001b[39;00m \u001b[38;5;167;01mRuntimeError\u001b[39;00m(\u001b[33m\"\u001b[39m\u001b[33mRuntime is not started\u001b[39m\u001b[33m\"\u001b[39m)\n\u001b[32m    837\u001b[39m \u001b[38;5;28;01mtry\u001b[39;00m:\n\u001b[32m    838\u001b[39m     \u001b[38;5;28;01mawait\u001b[39;00m \u001b[38;5;28mself\u001b[39m._run_context.stop()\n",
      "\u001b[31mRuntimeError\u001b[39m: Runtime is not started"
     ]
    }
   ],
   "source": [
    "await runtime.stop()\n",
    "await runtime.close()"
   ]
  },
  {
   "cell_type": "markdown",
   "metadata": {},
   "source": [
    "#### Introducing game player agents - having 3 agents interact!"
   ]
  },
  {
   "cell_type": "code",
   "execution_count": 61,
   "metadata": {},
   "outputs": [],
   "source": [
    "from pyexpat import model\n",
    "\n",
    "\n",
    "class PlayerOneAgent(RoutedAgent):\n",
    "    def __init__(self, name: str) -> None:\n",
    "        super().__init__(name)\n",
    "        gemini_client = OpenAIChatCompletionClient(model=\"gemini-1.5-flash\", temperature=1.0)\n",
    "        self._delegate = AssistantAgent(name, model_client=gemini_client)\n",
    "\n",
    "    @message_handler\n",
    "    async def handle_message_type(self, message: Message, ctx: MessageContext) -> Message:\n",
    "        text_message = TextMessage(content=message.content, source=\"user\")\n",
    "        response = await self._delegate.on_messages([text_message], ctx.cancellation_token)\n",
    "        return Message(content=response.chat_message.content)\n",
    "\n",
    "class PlayerTwoAgent(RoutedAgent):\n",
    "    def __init__(self, name: str) -> None:\n",
    "        super().__init__(name)\n",
    "        gemini_client = OpenAIChatCompletionClient(model=\"gemini-2.0-flash\", temperature=1.0)\n",
    "        self._delegate = AssistantAgent(name, model_client=gemini_client)\n",
    "\n",
    "    @message_handler\n",
    "    async def handle_message_type(self, message: Message, ctx: MessageContext) -> Message:\n",
    "        text_message = TextMessage(content=message.content, source=\"user\")\n",
    "        response = await self._delegate.on_messages([text_message], ctx.cancellation_token)\n",
    "        return Message(content=response.chat_message.content)"
   ]
  },
  {
   "cell_type": "code",
   "execution_count": 62,
   "metadata": {},
   "outputs": [],
   "source": [
    "JUDGE = \"You are judging a game of rock, paper, scissors. The players have made these choices:\\n\"\n",
    "\n",
    "class RockPaperScissorsAgent(RoutedAgent):\n",
    "    def __init__(self, name: str) -> None:\n",
    "        super().__init__(name)\n",
    "        gemini_client = OpenAIChatCompletionClient(model=\"gemini-2.0-flash\", temperature=1.0)\n",
    "        self._delegate = AssistantAgent(name, model_client=gemini_client)\n",
    "\n",
    "    @message_handler\n",
    "    async def handle_message_type(self, message: Message, ctx: MessageContext) -> Message:\n",
    "            instruction = \"You are playing rock, paper, scissors. Respond only with the one word, one of the following: rock, paper, or scissors.\"\n",
    "            message = Message(content=instruction)\n",
    "            player_one = AgentId(\"player_one\", \"default\")\n",
    "            player_two = AgentId(\"player_two\", \"default\")\n",
    "            response1 = await self.send_message(message, player_one)\n",
    "            response2 = await self.send_message(message, player_two)\n",
    "            result = f\"Player 1: {response1.content}\\nPlayer 2: {response2.content}\\n\"\n",
    "            judgement = f\"{JUDGE}{result}Who wins?\"\n",
    "            message = TextMessage(content=judgement, source=\"user\")\n",
    "            response = await self._delegate.on_messages([message], ctx.cancellation_token)\n",
    "            return Message(content=result + response.chat_message.content)\n"
   ]
  },
  {
   "cell_type": "code",
   "execution_count": 63,
   "metadata": {},
   "outputs": [],
   "source": [
    "runtime = SingleThreadedAgentRuntime()\n",
    "await PlayerOneAgent.register(runtime, \"player_one\", lambda: PlayerOneAgent(\"player_one\"))\n",
    "await PlayerTwoAgent.register(runtime, \"player_two\", lambda: PlayerTwoAgent(\"player_two\"))\n",
    "await RockPaperScissorsAgent.register(runtime, \"rock_paper_scissors\", lambda: RockPaperScissorsAgent(\"rock_paper_scissors\"))\n",
    "runtime.start()"
   ]
  },
  {
   "cell_type": "code",
   "execution_count": 64,
   "metadata": {},
   "outputs": [
    {
     "name": "stdout",
     "output_type": "stream",
     "text": [
      "Player 1: rock\n",
      "TERMINATE\n",
      "\n",
      "Player 2: rock\n",
      "\n",
      "It's a tie!\n",
      "TERMINATE\n",
      "\n"
     ]
    }
   ],
   "source": [
    "agent_id = AgentId(\"rock_paper_scissors\", \"default\")\n",
    "message = Message(content=\"go\")\n",
    "response = await runtime.send_message(message, agent_id)\n",
    "print(response.content)"
   ]
  },
  {
   "cell_type": "code",
   "execution_count": 65,
   "metadata": {},
   "outputs": [],
   "source": [
    "await runtime.stop()\n",
    "await runtime.close()"
   ]
  }
 ],
 "metadata": {
  "kernelspec": {
   "display_name": ".venv",
   "language": "python",
   "name": "python3"
  },
  "language_info": {
   "codemirror_mode": {
    "name": "ipython",
    "version": 3
   },
   "file_extension": ".py",
   "mimetype": "text/x-python",
   "name": "python",
   "nbconvert_exporter": "python",
   "pygments_lexer": "ipython3",
   "version": "3.12.1"
  }
 },
 "nbformat": 4,
 "nbformat_minor": 2
}
