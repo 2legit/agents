{
 "cells": [
  {
   "cell_type": "code",
   "execution_count": 1,
   "id": "2c2ee6d9",
   "metadata": {},
   "outputs": [],
   "source": [
    "from dotenv import load_dotenv"
   ]
  },
  {
   "cell_type": "code",
   "execution_count": 2,
   "id": "5e6039ac",
   "metadata": {},
   "outputs": [
    {
     "data": {
      "text/plain": [
       "True"
      ]
     },
     "execution_count": 2,
     "metadata": {},
     "output_type": "execute_result"
    }
   ],
   "source": [
    "load_dotenv(override=True)"
   ]
  },
  {
   "cell_type": "code",
   "execution_count": 4,
   "id": "0d5cddd9",
   "metadata": {},
   "outputs": [
    {
     "name": "stdout",
     "output_type": "stream",
     "text": [
      "open ai key is found and starts withsk-proj-\n"
     ]
    }
   ],
   "source": [
    "import os\n",
    "from openai import OpenAI\n",
    "\n",
    "open_ai_key = os.getenv('OPENAI_API_KEY')\n",
    "\n",
    "if open_ai_key:\n",
    "\n",
    "    print(f'open ai key is found and starts with{open_ai_key[:8]}')\n",
    "\n",
    "else:\n",
    "    print('open ai key noy found - please check troubleshooting instructions in the setup folder')\n"
   ]
  },
  {
   "cell_type": "code",
   "execution_count": 19,
   "id": "fdf37fd5",
   "metadata": {},
   "outputs": [
    {
     "name": "stdout",
     "output_type": "stream",
     "text": [
      "That's great! What topic are you interested in learning about? It could be science, history, technology, art, or anything else that sparks your curiosity!\n"
     ]
    }
   ],
   "source": [
    "from openai import OpenAI\n",
    "\n",
    "openaiclient = OpenAI()\n",
    "\n",
    "questions = \"We will learn something new today\"\n",
    "\n",
    "\n",
    "message = [{\"role\":\"user\",\"content\":questions}]\n",
    "\n",
    "\n",
    "response = openaiclient.chat.completions.create(\n",
    "    model = \"gpt-4o-mini\",\n",
    "    messages = message\n",
    ")\n",
    "\n",
    "\n",
    "answer = response.choices[0].message.content\n",
    "print(answer)"
   ]
  }
 ],
 "metadata": {
  "kernelspec": {
   "display_name": ".venv",
   "language": "python",
   "name": "python3"
  },
  "language_info": {
   "codemirror_mode": {
    "name": "ipython",
    "version": 3
   },
   "file_extension": ".py",
   "mimetype": "text/x-python",
   "name": "python",
   "nbconvert_exporter": "python",
   "pygments_lexer": "ipython3",
   "version": "3.12.11"
  }
 },
 "nbformat": 4,
 "nbformat_minor": 5
}
